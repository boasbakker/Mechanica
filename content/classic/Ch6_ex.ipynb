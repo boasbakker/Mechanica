{
 "cells": [
  {
   "cell_type": "markdown",
   "id": "9f7da770",
   "metadata": {},
   "source": [
    "---\n",
    "numbering:\n",
    "  title:\n",
    "    offset: 1\n",
    "---\n",
    "\n",
    "\n",
    "# Examples, exercises and solutions"
   ]
  },
  {
   "cell_type": "markdown",
   "id": "787e5585",
   "metadata": {},
   "source": []
  }
 ],
 "metadata": {
  "language_info": {
   "name": "python"
  }
 },
 "nbformat": 4,
 "nbformat_minor": 5
}
